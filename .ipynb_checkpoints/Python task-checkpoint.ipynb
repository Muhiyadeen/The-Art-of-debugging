{
 "cells": [
  {
   "cell_type": "code",
   "execution_count": 52,
   "id": "77d4c1cc",
   "metadata": {},
   "outputs": [
    {
     "name": "stdout",
     "output_type": "stream",
     "text": [
      "{'AVENGERS': {'Iron Man': {'name': 'Tony Stark', 'age': 40, 'height': 1.88, 'weight': 95, 'superpower': 'Genius', 'points': {'stealth': 5, 'speed': 4, 'intelligence': 5, 'durability': 4, 'energy': 3, 'fighting': 5, 'strength': 5}}, 'Captain America': {'name': 'Steve Rogers', 'age': 100, 'height': 1.88, 'weight': 95, 'superpower': 'Super Soldier', 'points': {'stealth': 6, 'speed': 4, 'intelligence': 5, 'durability': 4, 'energy': 3, 'fighting': 5, 'strength': 5}}, 'Thor': {'name': 'Thor Odinson', 'age': 1000, 'height': 1.88, 'weight': 95, 'superpower': 'God of Thunder', 'points': {'stealth': 5, 'speed': 4, 'intelligence': 5, 'durability': 4, 'energy': 3, 'fighting': 5, 'strength': 5}}, 'Hulk': {'name': 'Bruce Banner', 'age': 40, 'height': 1.88, 'weight': 95, 'superpower': 'Super Strength', 'points': {'stealth': 5, 'speed': 4, 'intelligence': 5, 'durability': 4, 'energy': 3, 'fighting': 5, 'strength': 5}}, 'Black Widow': {'name': 'Natasha Romanoff', 'age': 40, 'height': 1.88, 'weight': 95, 'superpower': 'Super Spy', 'points': {'stealth': 5, 'speed': 4, 'intelligence': 5, 'durability': 4, 'energy': 3, 'fighting': 5, 'strength': 5}}, 'Hawkeye': {'name': 'Clint Barton', 'age': 40, 'height': 1.88, 'weight': 95, 'superpower': 'Super Archer', 'points': {'stealth': 5, 'speed': 4, 'intelligence': 5, 'durability': 4, 'energy': 3, 'fighting': 5, 'strength': 5}}}, 'DC': {'Batman': {'name': 'Bruce Wayne', 'age': 40, 'height': 1.88, 'weight': 95, 'superpower': 'Genius', 'points': {'stealth': 5, 'speed': 4, 'intelligence': 5, 'durability': 4, 'energy': 3, 'fighting': 5, 'strength': 5}}, 'Superman': {'name': 'Clark Kent', 'age': 100, 'height': 1.88, 'weight': 95, 'superpower': 'Super Strength', 'points': {'stealth': 5, 'speed': 4, 'intelligence': 5, 'durability': 4, 'energy': 3, 'fighting': 5, 'strength': 6}}, 'Wonder Woman': {'name': 'Diana Prince', 'age': 1000, 'height': 1.88, 'weight': 95, 'superpower': 'Super Strength', 'points': {'stealth': 5, 'speed': 4, 'intelligence': 5, 'durability': 4, 'energy': 3, 'fighting': 5, 'strength': 5}}, 'Aquaman': {'name': 'Arthur Curry', 'age': 40, 'height': 1.88, 'weight': 95, 'superpower': 'Super Strength', 'points': {'stealth': 5, 'speed': 4, 'intelligence': 5, 'durability': 4, 'energy': 3, 'fighting': 5, 'strength': 5}}, 'Flash': {'name': 'Barry Allen', 'age': 40, 'height': 1.88, 'weight': 95, 'superpower': 'Super Speed', 'points': {'stealth': 5, 'speed': 4, 'intelligence': 5, 'durability': 4, 'energy': 3, 'fighting': 5, 'strength': 5}}, 'Cyborg': {'name': 'Victor Stone', 'age': 40, 'height': 1.88, 'weight': 95, 'superpower': 'Super Strength', 'points': {'stealth': 5, 'speed': 4, 'intelligence': 5, 'durability': 4, 'energy': 3, 'fighting': 5, 'strength': 5}}}}\n"
     ]
    }
   ],
   "source": [
    "#Print result after every function to check \n",
    "#Read the info in every functions to get the proper understanding of desired output\n",
    "\n",
    "import json\n",
    "from multiprocessing.sharedctypes import Value\n",
    "filepaths='data.json'\n",
    "\n",
    "def read_data(filepath):\n",
    "    with open(filepath) as json_file:\n",
    "        data = json.load(json_file)\n",
    "    # Read data from filepaths\n",
    "    return data\n",
    "#Added return data\n",
    "data = read_data(filepaths)\n",
    "print(data)\n",
    "#Added print statement to check the working"
   ]
  },
  {
   "cell_type": "code",
   "execution_count": 109,
   "id": "f228c905",
   "metadata": {},
   "outputs": [
    {
     "ename": "SyntaxError",
     "evalue": "invalid syntax (3685510294.py, line 3)",
     "output_type": "error",
     "traceback": [
      "\u001b[0;36m  File \u001b[0;32m\"/var/folders/94/_xy_dn6x34l94j3bnd2lxmpr0000gn/T/ipykernel_12529/3685510294.py\"\u001b[0;36m, line \u001b[0;32m3\u001b[0m\n\u001b[0;31m    oldest[0]=\u001b[0m\n\u001b[0m              ^\u001b[0m\n\u001b[0;31mSyntaxError\u001b[0m\u001b[0;31m:\u001b[0m invalid syntax\n"
     ]
    }
   ],
   "source": [
    "max=0\n",
    "oldest=[]\n",
    "oldest[0]=\n",
    "for i in data[\"AVENGERS\"]:\n",
    "        if (data[\"AVENGERS\"][i]['age'] >max):\n",
    "            max=data[\"AVENGERS\"][i]['age']\n",
    "            oldest[1]=data[\"AVENGERS\"][i]\n",
    "print(oldest)"
   ]
  },
  {
   "cell_type": "code",
   "execution_count": 81,
   "id": "0fa25ea1",
   "metadata": {},
   "outputs": [
    {
     "name": "stdout",
     "output_type": "stream",
     "text": [
      "{'name': 'Thor Odinson', 'age': 1000, 'height': 1.88, 'weight': 95, 'superpower': 'God of Thunder', 'points': {'stealth': 5, 'speed': 4, 'intelligence': 5, 'durability': 4, 'energy': 3, 'fighting': 5, 'strength': 5}, 1: {'name': 'Diana Prince', 'age': 1000, 'height': 1.88, 'weight': 95, 'superpower': 'Super Strength', 'points': {'stealth': 5, 'speed': 4, 'intelligence': 5, 'durability': 4, 'energy': 3, 'fighting': 5, 'strength': 5}}}\n"
     ]
    }
   ],
   "source": [
    "def get_oldest(data):\n",
    "     max=0\n",
    "#Altered max=0 instead of inf\n",
    "     c=0\n",
    "     oldest={}\n",
    "#Created a null dic oldest\n",
    "     for i in data[\"AVENGERS\"]:\n",
    "        if (data[\"AVENGERS\"][i]['age'] >max):\n",
    "            max=data[\"AVENGERS\"][i]['age']\n",
    "            oldest=data[\"AVENGERS\"][i]\n",
    "     max=0\n",
    "#Reseted max=0 fro DC\n",
    "     for i in data[\"DC\"]:\n",
    "        if (data[\"DC\"][i]['age'] >max):\n",
    "            max=data[\"DC\"][i]['age']\n",
    "            oldest[1]=data[\"DC\"][i]\n",
    "#Changed oldest to oldest[1]\n",
    "        #{if data[\"DC\"][i]['age'] == max:\n",
    "            #oldest[c]=data[\"DC\"][i]\n",
    "            #c+=1}\n",
    "        #By manual checking this whole part is unnecessary\n",
    "    # Return all info of the oldest superheroes\n",
    "    # Return all info of the oldest superheroes\n",
    "     return oldest\n",
    "print(get_oldest(data))\n",
    "# returns info: Thor and Wonder Woman"
   ]
  },
  {
   "cell_type": "code",
   "execution_count": null,
   "id": "7210fa86",
   "metadata": {},
   "outputs": [],
   "source": []
  },
  {
   "cell_type": "code",
   "execution_count": 82,
   "id": "0887528b",
   "metadata": {},
   "outputs": [
    {
     "name": "stdout",
     "output_type": "stream",
     "text": [
      "{'name': 'Thor Odinson', 'age': 1000, 'height': 1.88, 'weight': 95, 'superpower': 'God of Thunder', 'points': {'stealth': 5, 'speed': 4, 'intelligence': 5, 'durability': 4, 'energy': 3, 'fighting': 5, 'strength': 5}, 1: {'name': 'Diana Prince', 'age': 1000, 'height': 1.88, 'weight': 95, 'superpower': 'Super Strength', 'points': {'stealth': 5, 'speed': 4, 'intelligence': 5, 'durability': 4, 'energy': 3, 'fighting': 5, 'strength': 5}}}\n"
     ]
    }
   ],
   "source": [
    "def get_oldest_avenger(data):\n",
    "    max=0\n",
    "    oldest_avenger={}\n",
    "    for i in data[\"AVENGERS\"]:\n",
    "        if (data[\"AVENGERS\"][i]['age'] >max):\n",
    "            max=data[\"AVENGERS\"][i]['age']\n",
    "            oldest_avenger=data[\"AVENGERS\"][i]\n",
    "    # Return all info of the oldest avenger\n",
    "    return oldest_avenger\n",
    "\n",
    "# returns info: Thor \n",
    "\n",
    "print(get_oldest_avenger(data))\n"
   ]
  },
  {
   "cell_type": "code",
   "execution_count": 97,
   "id": "f39cf381",
   "metadata": {},
   "outputs": [
    {
     "name": "stdout",
     "output_type": "stream",
     "text": [
      "{5: 20, 4: 8, 3: 3, 6: 6}\n"
     ]
    }
   ],
   "source": [
    "def get_total_points(data):\n",
    "    total_points={}\n",
    "    for i in data[\"AVENGERS\"]:\n",
    "        key=data[\"AVENGERS\"][i]['points']\n",
    "        for j in data[\"AVENGERS\"][i]['points']:\n",
    "            total_points[key[j]] = 0\n",
    "        for j in data[\"AVENGERS\"][i]['points']:\n",
    "            total_points[key[j]]+=data[\"AVENGERS\"][i]['points'][j]\n",
    "    for i in data[\"DC\"]:\n",
    "        key=data[\"DC\"][i]['points']\n",
    "        for j in data[\"DC\"][i]['points']:\n",
    "            total_points[key[j]] = 0\n",
    "        for j in data[\"DC\"][i]['points']:\n",
    "            total_points[key[j]]+=data[\"DC\"][i]['points'][j]\n",
    "    # Return a dictionary\n",
    "    # Key: superhero name\n",
    "    # Value: total points\n",
    "    return total_points\n",
    "print(get_total_points(data))\n",
    "# returns info: Dict of superhero name and total points\n",
    "\n"
   ]
  },
  {
   "cell_type": "code",
   "execution_count": 108,
   "id": "c7e7d075",
   "metadata": {},
   "outputs": [],
   "source": [
    "def get_more_than_average(data):\n",
    "    more_than_average=()\n",
    "    avg_mcu=0\n",
    "    avg_dc=0\n",
    "    for i in data[\"AVENGERS\"]:\n",
    "        avg_mcu+=data[\"AVENGERS\"][i][\"points\"][\"stealth\"]\n",
    "    avg_mcu=avg_mcu/len(data[\"AVENGERS\"])\n",
    "    c=0\n",
    "    for i in data[\"AVENGERS\"]:\n",
    "        if(data[\"AVENGERS\"][i]['points']['stealth']>avg_mcu):\n",
    "            more_than_average[c]=data[\"AVENGERS\"][i]\n",
    "            c+=1\n",
    "    for i in data[\"DC\"]:\n",
    "      avg_dc+=data[\"DC\"][i]['points']['strength']\n",
    "    avg_dc=avg_dc/len(data[\"DC\"])\n",
    "    for i in data[\"DC\"]:\n",
    "        if(data[\"DC\"][i]['points']['strength']>avg_dc):\n",
    "            more_than_average[c]=data[\"DC\"][i]\n",
    "            c+=1\n",
    "    '''\n",
    "    Return list of superheroes with stealth more than average in MCU \n",
    "    and list of superheroes with strength more than average in DCEU\n",
    "    '''\n",
    "    return more_than_average\n",
    "\n",
    "  #returns info: Steve Rogers and Superman\n"
   ]
  },
  {
   "cell_type": "code",
   "execution_count": 107,
   "id": "c6171be8",
   "metadata": {},
   "outputs": [
    {
     "name": "stdout",
     "output_type": "stream",
     "text": [
      "['Tony Stark', 'Steve Rogers', 'Thor Odinson', 'Bruce Banner', 'Natasha Romanoff', 'Clint Barton', 'Bruce Wayne', 'Clark Kent', 'Diana Prince', 'Arthur Curry', 'Barry Allen', 'Victor Stone']\n"
     ]
    }
   ],
   "source": [
    "def get_names(data):\n",
    "    names=[]\n",
    "    for i in data[\"AVENGERS\"]:\n",
    "        names.append(data[\"AVENGERS\"][i]['name'])\n",
    "#Changed insert to append and gave correct indexing for names\n",
    "    for j in data[\"DC\"]:\n",
    "        names.append(data[\"DC\"][j]['name'])\n",
    "#Changed insert to append and gave correct indexing for names\n",
    "    # Return a list of superhero names\n",
    "    return names\n",
    "print(get_names(data))"
   ]
  },
  {
   "cell_type": "code",
   "execution_count": null,
   "id": "42182da2",
   "metadata": {},
   "outputs": [],
   "source": []
  }
 ],
 "metadata": {
  "kernelspec": {
   "display_name": "Python 3 (ipykernel)",
   "language": "python",
   "name": "python3"
  },
  "language_info": {
   "codemirror_mode": {
    "name": "ipython",
    "version": 3
   },
   "file_extension": ".py",
   "mimetype": "text/x-python",
   "name": "python",
   "nbconvert_exporter": "python",
   "pygments_lexer": "ipython3",
   "version": "3.9.7"
  }
 },
 "nbformat": 4,
 "nbformat_minor": 5
}
